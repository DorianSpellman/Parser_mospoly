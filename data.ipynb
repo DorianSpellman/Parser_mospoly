{
 "cells": [
  {
   "cell_type": "code",
   "execution_count": null,
   "metadata": {},
   "outputs": [],
   "source": [
    "import pandas as pd"
   ]
  },
  {
   "cell_type": "code",
   "execution_count": 10,
   "metadata": {},
   "outputs": [
    {
     "data": {
      "text/html": [
       "<div>\n",
       "<style scoped>\n",
       "    .dataframe tbody tr th:only-of-type {\n",
       "        vertical-align: middle;\n",
       "    }\n",
       "\n",
       "    .dataframe tbody tr th {\n",
       "        vertical-align: top;\n",
       "    }\n",
       "\n",
       "    .dataframe thead th {\n",
       "        text-align: right;\n",
       "    }\n",
       "</style>\n",
       "<table border=\"1\" class=\"dataframe\">\n",
       "  <thead>\n",
       "    <tr style=\"text-align: right;\">\n",
       "      <th></th>\n",
       "      <th>title</th>\n",
       "      <th>content</th>\n",
       "      <th>date</th>\n",
       "      <th>link</th>\n",
       "    </tr>\n",
       "  </thead>\n",
       "  <tbody>\n",
       "    <tr>\n",
       "      <th>0</th>\n",
       "      <td>В Московском Политехе обсудили развитие финанс...</td>\n",
       "      <td>На базе Московского политехнического универси...</td>\n",
       "      <td>22Ноября 2022</td>\n",
       "      <td>https://mospolytech.ru/news/v-moskovskom-polit...</td>\n",
       "    </tr>\n",
       "    <tr>\n",
       "      <th>1</th>\n",
       "      <td>В Московском Политехе рассмотрели тенденции ци...</td>\n",
       "      <td>В Московском политехническом университете 21 н...</td>\n",
       "      <td>22Ноября 2022</td>\n",
       "      <td>https://mospolytech.ru/news/v-moskovskom-polit...</td>\n",
       "    </tr>\n",
       "    <tr>\n",
       "      <th>2</th>\n",
       "      <td>«Приоритет 2030»: Московский Политех и Курган...</td>\n",
       "      <td>Московский политехнический университет и Курга...</td>\n",
       "      <td>22Ноября 2022</td>\n",
       "      <td>https://mospolytech.ru/news/-prioritet-2030-mo...</td>\n",
       "    </tr>\n",
       "    <tr>\n",
       "      <th>3</th>\n",
       "      <td>Медийщики Московского Политеха представят вуз ...</td>\n",
       "      <td>Студенты Московского политехнического универс...</td>\n",
       "      <td>22Ноября 2022</td>\n",
       "      <td>https://mospolytech.ru/news/mediyshchiki-mosko...</td>\n",
       "    </tr>\n",
       "    <tr>\n",
       "      <th>4</th>\n",
       "      <td>Вокалисты Московского Политеха выступят на кон...</td>\n",
       "      <td>В Московском политехническом университете прой...</td>\n",
       "      <td>22Ноября 2022</td>\n",
       "      <td>https://mospolytech.ru/news/vokalisty-moskovsk...</td>\n",
       "    </tr>\n",
       "  </tbody>\n",
       "</table>\n",
       "</div>"
      ],
      "text/plain": [
       "                                               title  \\\n",
       "0  В Московском Политехе обсудили развитие финанс...   \n",
       "1  В Московском Политехе рассмотрели тенденции ци...   \n",
       "2   «Приоритет 2030»: Московский Политех и Курган...   \n",
       "3  Медийщики Московского Политеха представят вуз ...   \n",
       "4  Вокалисты Московского Политеха выступят на кон...   \n",
       "\n",
       "                                             content           date  \\\n",
       "0   На базе Московского политехнического универси...  22Ноября 2022   \n",
       "1  В Московском политехническом университете 21 н...  22Ноября 2022   \n",
       "2  Московский политехнический университет и Курга...  22Ноября 2022   \n",
       "3   Студенты Московского политехнического универс...  22Ноября 2022   \n",
       "4  В Московском политехническом университете прой...  22Ноября 2022   \n",
       "\n",
       "                                                link  \n",
       "0  https://mospolytech.ru/news/v-moskovskom-polit...  \n",
       "1  https://mospolytech.ru/news/v-moskovskom-polit...  \n",
       "2  https://mospolytech.ru/news/-prioritet-2030-mo...  \n",
       "3  https://mospolytech.ru/news/mediyshchiki-mosko...  \n",
       "4  https://mospolytech.ru/news/vokalisty-moskovsk...  "
      ]
     },
     "execution_count": 10,
     "metadata": {},
     "output_type": "execute_result"
    }
   ],
   "source": [
    "data = pd.read_csv('C:\\\\Users\\\\SibaInu\\\\Desktop\\\\parser\\\\mospoly.csv', encoding = \"utf-8\", index_col=0)\n",
    "data"
   ]
  }
 ],
 "metadata": {
  "kernelspec": {
   "display_name": "Python 3.10.0 64-bit",
   "language": "python",
   "name": "python3"
  },
  "language_info": {
   "codemirror_mode": {
    "name": "ipython",
    "version": 3
   },
   "file_extension": ".py",
   "mimetype": "text/x-python",
   "name": "python",
   "nbconvert_exporter": "python",
   "pygments_lexer": "ipython3",
   "version": "3.10.0"
  },
  "orig_nbformat": 4,
  "vscode": {
   "interpreter": {
    "hash": "369f2c481f4da34e4445cda3fffd2e751bd1c4d706f27375911949ba6bb62e1c"
   }
  }
 },
 "nbformat": 4,
 "nbformat_minor": 2
}
